{
 "cells": [
  {
   "cell_type": "code",
   "execution_count": 1,
   "id": "9c6d826e",
   "metadata": {},
   "outputs": [
    {
     "name": "stderr",
     "output_type": "stream",
     "text": [
      "[nltk_data] Downloading package stopwords to\n",
      "[nltk_data]     C:\\Users\\HappY\\AppData\\Roaming\\nltk_data...\n",
      "[nltk_data]   Package stopwords is already up-to-date!\n"
     ]
    },
    {
     "data": {
      "text/plain": [
       "True"
      ]
     },
     "execution_count": 1,
     "metadata": {},
     "output_type": "execute_result"
    }
   ],
   "source": [
    "import pandas as pd\n",
    "import numpy as np\n",
    "import seaborn as sns\n",
    "from nltk.corpus import stopwords\n",
    "import matplotlib.pyplot as plt\n",
    "from nltk.stem.porter import PorterStemmer\n",
    "from sklearn.feature_extraction.text import TfidfVectorizer\n",
    "from sklearn.model_selection import train_test_split\n",
    "from sklearn.metrics import accuracy_score\n",
    "from sklearn.metrics import classification_report\n",
    "import re\n",
    "import string\n",
    "import nltk\n",
    "nltk.download('stopwords')"
   ]
  },
  {
   "cell_type": "code",
   "execution_count": 2,
   "id": "c411c643",
   "metadata": {},
   "outputs": [],
   "source": [
    "data_false = pd.read_csv(\"Fake.csv\")\n",
    "data_true = pd.read_csv(\"True.csv\")"
   ]
  },
  {
   "cell_type": "code",
   "execution_count": 3,
   "id": "7be39638",
   "metadata": {},
   "outputs": [],
   "source": [
    "data_false[\"class\"] = 0\n",
    "data_true[\"class\"] = 1"
   ]
  },
  {
   "cell_type": "code",
   "execution_count": 4,
   "id": "3cda602d",
   "metadata": {},
   "outputs": [],
   "source": [
    "data_merge = pd.concat([data_false, data_true],ignore_index=True)\n",
    "#data_merge"
   ]
  },
  {
   "cell_type": "code",
   "execution_count": 5,
   "id": "b8b8b4e8",
   "metadata": {},
   "outputs": [
    {
     "data": {
      "text/html": [
       "<div>\n",
       "<style scoped>\n",
       "    .dataframe tbody tr th:only-of-type {\n",
       "        vertical-align: middle;\n",
       "    }\n",
       "\n",
       "    .dataframe tbody tr th {\n",
       "        vertical-align: top;\n",
       "    }\n",
       "\n",
       "    .dataframe thead tr th {\n",
       "        text-align: left;\n",
       "    }\n",
       "\n",
       "    .dataframe thead tr:last-of-type th {\n",
       "        text-align: right;\n",
       "    }\n",
       "</style>\n",
       "<table border=\"1\" class=\"dataframe\">\n",
       "  <thead>\n",
       "    <tr>\n",
       "      <th></th>\n",
       "      <th colspan=\"4\" halign=\"left\">title</th>\n",
       "      <th colspan=\"4\" halign=\"left\">text</th>\n",
       "      <th colspan=\"4\" halign=\"left\">subject</th>\n",
       "      <th colspan=\"4\" halign=\"left\">date</th>\n",
       "    </tr>\n",
       "    <tr>\n",
       "      <th></th>\n",
       "      <th>count</th>\n",
       "      <th>unique</th>\n",
       "      <th>top</th>\n",
       "      <th>freq</th>\n",
       "      <th>count</th>\n",
       "      <th>unique</th>\n",
       "      <th>top</th>\n",
       "      <th>freq</th>\n",
       "      <th>count</th>\n",
       "      <th>unique</th>\n",
       "      <th>top</th>\n",
       "      <th>freq</th>\n",
       "      <th>count</th>\n",
       "      <th>unique</th>\n",
       "      <th>top</th>\n",
       "      <th>freq</th>\n",
       "    </tr>\n",
       "    <tr>\n",
       "      <th>class</th>\n",
       "      <th></th>\n",
       "      <th></th>\n",
       "      <th></th>\n",
       "      <th></th>\n",
       "      <th></th>\n",
       "      <th></th>\n",
       "      <th></th>\n",
       "      <th></th>\n",
       "      <th></th>\n",
       "      <th></th>\n",
       "      <th></th>\n",
       "      <th></th>\n",
       "      <th></th>\n",
       "      <th></th>\n",
       "      <th></th>\n",
       "      <th></th>\n",
       "    </tr>\n",
       "  </thead>\n",
       "  <tbody>\n",
       "    <tr>\n",
       "      <th>0</th>\n",
       "      <td>1000</td>\n",
       "      <td>1000</td>\n",
       "      <td>WATCH: Jake Tapper Rips Scaramucci A New One ...</td>\n",
       "      <td>1</td>\n",
       "      <td>1000</td>\n",
       "      <td>1000</td>\n",
       "      <td>When the Trump administration hired a tiny two...</td>\n",
       "      <td>1</td>\n",
       "      <td>1000</td>\n",
       "      <td>1</td>\n",
       "      <td>News</td>\n",
       "      <td>1000</td>\n",
       "      <td>1000</td>\n",
       "      <td>180</td>\n",
       "      <td>July 24, 2017</td>\n",
       "      <td>23</td>\n",
       "    </tr>\n",
       "    <tr>\n",
       "      <th>1</th>\n",
       "      <td>1000</td>\n",
       "      <td>995</td>\n",
       "      <td>Trump taps Fed centrist Powell to lead U.S. ce...</td>\n",
       "      <td>2</td>\n",
       "      <td>1000</td>\n",
       "      <td>993</td>\n",
       "      <td>WASHINGTON (Reuters) - The U.S. Senate on Thur...</td>\n",
       "      <td>2</td>\n",
       "      <td>1000</td>\n",
       "      <td>1</td>\n",
       "      <td>politicsNews</td>\n",
       "      <td>1000</td>\n",
       "      <td>1000</td>\n",
       "      <td>69</td>\n",
       "      <td>November 30, 2017</td>\n",
       "      <td>45</td>\n",
       "    </tr>\n",
       "  </tbody>\n",
       "</table>\n",
       "</div>"
      ],
      "text/plain": [
       "      title                                                                 \\\n",
       "      count unique                                                top freq   \n",
       "class                                                                        \n",
       "0      1000   1000   WATCH: Jake Tapper Rips Scaramucci A New One ...    1   \n",
       "1      1000    995  Trump taps Fed centrist Powell to lead U.S. ce...    2   \n",
       "\n",
       "       text                                                                 \\\n",
       "      count unique                                                top freq   \n",
       "class                                                                        \n",
       "0      1000   1000  When the Trump administration hired a tiny two...    1   \n",
       "1      1000    993  WASHINGTON (Reuters) - The U.S. Senate on Thur...    2   \n",
       "\n",
       "      subject                             date                                  \n",
       "        count unique           top  freq count unique                 top freq  \n",
       "class                                                                           \n",
       "0        1000      1          News  1000  1000    180       July 24, 2017   23  \n",
       "1        1000      1  politicsNews  1000  1000     69  November 30, 2017    45  "
      ]
     },
     "execution_count": 5,
     "metadata": {},
     "output_type": "execute_result"
    }
   ],
   "source": [
    "data_merge.groupby(\"class\").describe()"
   ]
  },
  {
   "cell_type": "code",
   "execution_count": 6,
   "id": "9368f6f4",
   "metadata": {},
   "outputs": [
    {
     "data": {
      "text/plain": [
       "<AxesSubplot:>"
      ]
     },
     "execution_count": 6,
     "metadata": {},
     "output_type": "execute_result"
    },
    {
     "data": {
      "image/png": "[encoded data removed]",
      "text/plain": [
       "<Figure size 432x288 with 1 Axes>"
      ]
     },
     "metadata": {
      "needs_background": "light"
     },
     "output_type": "display_data"
    }
   ],
   "source": [
    "#IF YOU DON'T SEE ANY VERTICAL BAR IN THE BELOW GRAPH, THEN YOU DON'T HAVE ANY MISSING VALUES IN ANY OF THE FIELDS\n",
    "import seaborn as sns\n",
    "sns.heatmap(data_merge.isnull(),yticklabels=False,cbar=False,cmap='YlGnBu')"
   ]
  },
  {
   "cell_type": "code",
   "execution_count": 7,
   "id": "a58427db",
   "metadata": {},
   "outputs": [
    {
     "data": {
      "text/html": [
       "<div>\n",
       "<style scoped>\n",
       "    .dataframe tbody tr th:only-of-type {\n",
       "        vertical-align: middle;\n",
       "    }\n",
       "\n",
       "    .dataframe tbody tr th {\n",
       "        vertical-align: top;\n",
       "    }\n",
       "\n",
       "    .dataframe thead th {\n",
       "        text-align: right;\n",
       "    }\n",
       "</style>\n",
       "<table border=\"1\" class=\"dataframe\">\n",
       "  <thead>\n",
       "    <tr style=\"text-align: right;\">\n",
       "      <th></th>\n",
       "      <th>title</th>\n",
       "      <th>class</th>\n",
       "    </tr>\n",
       "  </thead>\n",
       "  <tbody>\n",
       "    <tr>\n",
       "      <th>0</th>\n",
       "      <td>Donald Trump Sends Out Embarrassing New Year’...</td>\n",
       "      <td>0</td>\n",
       "    </tr>\n",
       "    <tr>\n",
       "      <th>1</th>\n",
       "      <td>Drunk Bragging Trump Staffer Started Russian ...</td>\n",
       "      <td>0</td>\n",
       "    </tr>\n",
       "    <tr>\n",
       "      <th>2</th>\n",
       "      <td>Sheriff David Clarke Becomes An Internet Joke...</td>\n",
       "      <td>0</td>\n",
       "    </tr>\n",
       "    <tr>\n",
       "      <th>3</th>\n",
       "      <td>Trump Is So Obsessed He Even Has Obama’s Name...</td>\n",
       "      <td>0</td>\n",
       "    </tr>\n",
       "    <tr>\n",
       "      <th>4</th>\n",
       "      <td>Pope Francis Just Called Out Donald Trump Dur...</td>\n",
       "      <td>0</td>\n",
       "    </tr>\n",
       "  </tbody>\n",
       "</table>\n",
       "</div>"
      ],
      "text/plain": [
       "                                               title  class\n",
       "0   Donald Trump Sends Out Embarrassing New Year’...      0\n",
       "1   Drunk Bragging Trump Staffer Started Russian ...      0\n",
       "2   Sheriff David Clarke Becomes An Internet Joke...      0\n",
       "3   Trump Is So Obsessed He Even Has Obama’s Name...      0\n",
       "4   Pope Francis Just Called Out Donald Trump Dur...      0"
      ]
     },
     "execution_count": 7,
     "metadata": {},
     "output_type": "execute_result"
    }
   ],
   "source": [
    "data_merge = data_merge.drop(['text', 'subject','date'], axis=1)\n",
    "data_merge.head()"
   ]
  },
  {
   "cell_type": "code",
   "execution_count": 8,
   "id": "a426c86e",
   "metadata": {},
   "outputs": [],
   "source": [
    "data_merge['title'] = data_merge['title'].astype(str)"
   ]
  },
  {
   "cell_type": "code",
   "execution_count": 9,
   "id": "57731922",
   "metadata": {},
   "outputs": [
    {
     "data": {
      "text/html": [
       "<div>\n",
       "<style scoped>\n",
       "    .dataframe tbody tr th:only-of-type {\n",
       "        vertical-align: middle;\n",
       "    }\n",
       "\n",
       "    .dataframe tbody tr th {\n",
       "        vertical-align: top;\n",
       "    }\n",
       "\n",
       "    .dataframe thead th {\n",
       "        text-align: right;\n",
       "    }\n",
       "</style>\n",
       "<table border=\"1\" class=\"dataframe\">\n",
       "  <thead>\n",
       "    <tr style=\"text-align: right;\">\n",
       "      <th></th>\n",
       "      <th>title</th>\n",
       "      <th>class</th>\n",
       "      <th>word count</th>\n",
       "    </tr>\n",
       "  </thead>\n",
       "  <tbody>\n",
       "    <tr>\n",
       "      <th>0</th>\n",
       "      <td>Donald Trump Sends Out Embarrassing New Year’...</td>\n",
       "      <td>0</td>\n",
       "      <td>12</td>\n",
       "    </tr>\n",
       "    <tr>\n",
       "      <th>1</th>\n",
       "      <td>Drunk Bragging Trump Staffer Started Russian ...</td>\n",
       "      <td>0</td>\n",
       "      <td>8</td>\n",
       "    </tr>\n",
       "    <tr>\n",
       "      <th>2</th>\n",
       "      <td>Sheriff David Clarke Becomes An Internet Joke...</td>\n",
       "      <td>0</td>\n",
       "      <td>15</td>\n",
       "    </tr>\n",
       "    <tr>\n",
       "      <th>3</th>\n",
       "      <td>Trump Is So Obsessed He Even Has Obama’s Name...</td>\n",
       "      <td>0</td>\n",
       "      <td>14</td>\n",
       "    </tr>\n",
       "    <tr>\n",
       "      <th>4</th>\n",
       "      <td>Pope Francis Just Called Out Donald Trump Dur...</td>\n",
       "      <td>0</td>\n",
       "      <td>11</td>\n",
       "    </tr>\n",
       "  </tbody>\n",
       "</table>\n",
       "</div>"
      ],
      "text/plain": [
       "                                               title  class  word count\n",
       "0   Donald Trump Sends Out Embarrassing New Year’...      0          12\n",
       "1   Drunk Bragging Trump Staffer Started Russian ...      0           8\n",
       "2   Sheriff David Clarke Becomes An Internet Joke...      0          15\n",
       "3   Trump Is So Obsessed He Even Has Obama’s Name...      0          14\n",
       "4   Pope Francis Just Called Out Donald Trump Dur...      0          11"
      ]
     },
     "execution_count": 9,
     "metadata": {},
     "output_type": "execute_result"
    }
   ],
   "source": [
    "def word_count(sentence):\n",
    "  return len(sentence.split())\n",
    "\n",
    "data_merge['word count'] = data_merge['title'].apply(word_count)\n",
    "data_merge.head()"
   ]
  },
  {
   "cell_type": "code",
   "execution_count": 10,
   "id": "16b7b9c9",
   "metadata": {},
   "outputs": [
    {
     "data": {
      "text/plain": [
       "1000    10\n",
       "1001     9\n",
       "1002    10\n",
       "1003     9\n",
       "1004    11\n",
       "Name: word count, dtype: int64"
      ]
     },
     "execution_count": 10,
     "metadata": {},
     "output_type": "execute_result"
    }
   ],
   "source": [
    "import matplotlib.pyplot as plt\n",
    "x = data_merge['word count'][data_merge['class'] == 1]\n",
    "y = data_merge['word count'][data_merge['class'] == 0]\n",
    "x.head()"
   ]
  },
  {
   "cell_type": "code",
   "execution_count": 11,
   "id": "ce248997",
   "metadata": {},
   "outputs": [
    {
     "data": {
      "image/png": "[encoded data removed]",
      "text/plain": [
       "<Figure size 864x432 with 1 Axes>"
      ]
     },
     "metadata": {
      "needs_background": "light"
     },
     "output_type": "display_data"
    }
   ],
   "source": [
    "# Plotting the word count distribution for both FAKE and REAL news\n",
    "plt.figure(figsize = (12,6))\n",
    "plt.xlabel('Word Count')\n",
    "plt.ylabel('Frequency')\n",
    "g =plt.hist([x, y],color = ['r','b'], alpha = 0.5,label = ['REAL','FAKE'])\n",
    "plt.legend(loc = 'upper right')\n",
    "plt.show()"
   ]
  },
  {
   "cell_type": "code",
   "execution_count": 12,
   "id": "8c0fb242",
   "metadata": {},
   "outputs": [],
   "source": [
    "#THE BELOW SET OF FUNCTIONS CLEANS YOUR CODE . I.E FROM PUNCTUATION REMOVAL , STOPWORDS REMOVAL , STEMMING PROCESS ,\n",
    "#LEMMATIZATION PROCESS\n",
    "\n",
    "all_punctuations = string.punctuation + '‘’,:”][],'\n",
    "\n",
    "def punc_remover(raw_text):\n",
    "    no_punct = \"\".join([i for i in raw_text if i not in all_punctuations])\n",
    "    return no_punct"
   ]
  },
  {
   "cell_type": "code",
   "execution_count": 13,
   "id": "ac8f3775",
   "metadata": {},
   "outputs": [],
   "source": [
    "def stopword_remover(no_punc_text):\n",
    "    words = no_punc_text.split()\n",
    "    no_stp_words = \" \".join([i for i in words if i not in stopwords.words('english')])\n",
    "    return no_stp_words"
   ]
  },
  {
   "cell_type": "code",
   "execution_count": 14,
   "id": "d077673c",
   "metadata": {},
   "outputs": [],
   "source": [
    "lemmer = nltk.stem.WordNetLemmatizer()\n",
    "def lem(words):\n",
    "    return \" \".join([lemmer.lemmatize(word,'v') for word in words.split()])"
   ]
  },
  {
   "cell_type": "code",
   "execution_count": 15,
   "id": "8244e44d",
   "metadata": {},
   "outputs": [],
   "source": [
    "def text_cleaner(raw):\n",
    "    cleaned_text = stopword_remover(punc_remover(raw))\n",
    "    return lem(cleaned_text)"
   ]
  },
  {
   "cell_type": "code",
   "execution_count": 16,
   "id": "5dcc5e0b",
   "metadata": {},
   "outputs": [
    {
     "name": "stderr",
     "output_type": "stream",
     "text": [
      "[nltk_data] Downloading package stopwords to\n",
      "[nltk_data]     C:\\Users\\HappY\\AppData\\Roaming\\nltk_data...\n",
      "[nltk_data]   Package stopwords is already up-to-date!\n"
     ]
    },
    {
     "data": {
      "text/plain": [
       "True"
      ]
     },
     "execution_count": 16,
     "metadata": {},
     "output_type": "execute_result"
    }
   ],
   "source": [
    "import nltk\n",
    "nltk.download('stopwords')"
   ]
  },
  {
   "cell_type": "code",
   "execution_count": 17,
   "id": "0322a548",
   "metadata": {},
   "outputs": [
    {
     "name": "stderr",
     "output_type": "stream",
     "text": [
      "[nltk_data] Downloading package wordnet to\n",
      "[nltk_data]     C:\\Users\\HappY\\AppData\\Roaming\\nltk_data...\n",
      "[nltk_data]   Package wordnet is already up-to-date!\n"
     ]
    },
    {
     "data": {
      "text/plain": [
       "True"
      ]
     },
     "execution_count": 17,
     "metadata": {},
     "output_type": "execute_result"
    }
   ],
   "source": [
    "nltk.download('wordnet')"
   ]
  },
  {
   "cell_type": "code",
   "execution_count": 18,
   "id": "9811d6f8",
   "metadata": {},
   "outputs": [
    {
     "data": {
      "text/html": [
       "<div>\n",
       "<style scoped>\n",
       "    .dataframe tbody tr th:only-of-type {\n",
       "        vertical-align: middle;\n",
       "    }\n",
       "\n",
       "    .dataframe tbody tr th {\n",
       "        vertical-align: top;\n",
       "    }\n",
       "\n",
       "    .dataframe thead th {\n",
       "        text-align: right;\n",
       "    }\n",
       "</style>\n",
       "<table border=\"1\" class=\"dataframe\">\n",
       "  <thead>\n",
       "    <tr style=\"text-align: right;\">\n",
       "      <th></th>\n",
       "      <th>title</th>\n",
       "      <th>class</th>\n",
       "      <th>word count</th>\n",
       "      <th>SECTION_CLEANED</th>\n",
       "    </tr>\n",
       "  </thead>\n",
       "  <tbody>\n",
       "    <tr>\n",
       "      <th>0</th>\n",
       "      <td>Donald Trump Sends Out Embarrassing New Year’...</td>\n",
       "      <td>0</td>\n",
       "      <td>12</td>\n",
       "      <td>Donald Trump Sends Out Embarrassing New Years ...</td>\n",
       "    </tr>\n",
       "    <tr>\n",
       "      <th>1</th>\n",
       "      <td>Drunk Bragging Trump Staffer Started Russian ...</td>\n",
       "      <td>0</td>\n",
       "      <td>8</td>\n",
       "      <td>Drunk Bragging Trump Staffer Started Russian C...</td>\n",
       "    </tr>\n",
       "    <tr>\n",
       "      <th>2</th>\n",
       "      <td>Sheriff David Clarke Becomes An Internet Joke...</td>\n",
       "      <td>0</td>\n",
       "      <td>15</td>\n",
       "      <td>Sheriff David Clarke Becomes An Internet Joke ...</td>\n",
       "    </tr>\n",
       "    <tr>\n",
       "      <th>3</th>\n",
       "      <td>Trump Is So Obsessed He Even Has Obama’s Name...</td>\n",
       "      <td>0</td>\n",
       "      <td>14</td>\n",
       "      <td>Trump Is So Obsessed He Even Has Obamas Name C...</td>\n",
       "    </tr>\n",
       "    <tr>\n",
       "      <th>4</th>\n",
       "      <td>Pope Francis Just Called Out Donald Trump Dur...</td>\n",
       "      <td>0</td>\n",
       "      <td>11</td>\n",
       "      <td>Pope Francis Just Called Out Donald Trump Duri...</td>\n",
       "    </tr>\n",
       "  </tbody>\n",
       "</table>\n",
       "</div>"
      ],
      "text/plain": [
       "                                               title  class  word count  \\\n",
       "0   Donald Trump Sends Out Embarrassing New Year’...      0          12   \n",
       "1   Drunk Bragging Trump Staffer Started Russian ...      0           8   \n",
       "2   Sheriff David Clarke Becomes An Internet Joke...      0          15   \n",
       "3   Trump Is So Obsessed He Even Has Obama’s Name...      0          14   \n",
       "4   Pope Francis Just Called Out Donald Trump Dur...      0          11   \n",
       "\n",
       "                                     SECTION_CLEANED  \n",
       "0  Donald Trump Sends Out Embarrassing New Years ...  \n",
       "1  Drunk Bragging Trump Staffer Started Russian C...  \n",
       "2  Sheriff David Clarke Becomes An Internet Joke ...  \n",
       "3  Trump Is So Obsessed He Even Has Obamas Name C...  \n",
       "4  Pope Francis Just Called Out Donald Trump Duri...  "
      ]
     },
     "execution_count": 18,
     "metadata": {},
     "output_type": "execute_result"
    }
   ],
   "source": [
    "data_merge['SECTION_CLEANED'] = data_merge['title'].apply(text_cleaner)\n",
    "#combined_df.to_excel(\"output.xlsx\")  # SAVE THE FINAL CLEANED COPY IF YOU WANT\n",
    "data_merge.head()"
   ]
  },
  {
   "cell_type": "code",
   "execution_count": 19,
   "id": "a3b1deee",
   "metadata": {},
   "outputs": [],
   "source": [
    "data_merge.to_csv(\"final_cleaned_data.csv\")\n",
    "  # SAVE THE FINAL CLEANED COPY IF YOU WANT"
   ]
  },
  {
   "cell_type": "code",
   "execution_count": 20,
   "id": "88847627",
   "metadata": {},
   "outputs": [
    {
     "data": {
      "text/html": [
       "<div>\n",
       "<style scoped>\n",
       "    .dataframe tbody tr th:only-of-type {\n",
       "        vertical-align: middle;\n",
       "    }\n",
       "\n",
       "    .dataframe tbody tr th {\n",
       "        vertical-align: top;\n",
       "    }\n",
       "\n",
       "    .dataframe thead th {\n",
       "        text-align: right;\n",
       "    }\n",
       "</style>\n",
       "<table border=\"1\" class=\"dataframe\">\n",
       "  <thead>\n",
       "    <tr style=\"text-align: right;\">\n",
       "      <th></th>\n",
       "      <th>Unnamed: 0</th>\n",
       "      <th>title</th>\n",
       "      <th>class</th>\n",
       "      <th>word count</th>\n",
       "      <th>SECTION_CLEANED</th>\n",
       "    </tr>\n",
       "  </thead>\n",
       "  <tbody>\n",
       "    <tr>\n",
       "      <th>0</th>\n",
       "      <td>0</td>\n",
       "      <td>Donald Trump Sends Out Embarrassing New Year’...</td>\n",
       "      <td>0</td>\n",
       "      <td>12</td>\n",
       "      <td>Donald Trump Sends Out Embarrassing New Years ...</td>\n",
       "    </tr>\n",
       "    <tr>\n",
       "      <th>1</th>\n",
       "      <td>1</td>\n",
       "      <td>Drunk Bragging Trump Staffer Started Russian ...</td>\n",
       "      <td>0</td>\n",
       "      <td>8</td>\n",
       "      <td>Drunk Bragging Trump Staffer Started Russian C...</td>\n",
       "    </tr>\n",
       "    <tr>\n",
       "      <th>2</th>\n",
       "      <td>2</td>\n",
       "      <td>Sheriff David Clarke Becomes An Internet Joke...</td>\n",
       "      <td>0</td>\n",
       "      <td>15</td>\n",
       "      <td>Sheriff David Clarke Becomes An Internet Joke ...</td>\n",
       "    </tr>\n",
       "    <tr>\n",
       "      <th>3</th>\n",
       "      <td>3</td>\n",
       "      <td>Trump Is So Obsessed He Even Has Obama’s Name...</td>\n",
       "      <td>0</td>\n",
       "      <td>14</td>\n",
       "      <td>Trump Is So Obsessed He Even Has Obamas Name C...</td>\n",
       "    </tr>\n",
       "    <tr>\n",
       "      <th>4</th>\n",
       "      <td>4</td>\n",
       "      <td>Pope Francis Just Called Out Donald Trump Dur...</td>\n",
       "      <td>0</td>\n",
       "      <td>11</td>\n",
       "      <td>Pope Francis Just Called Out Donald Trump Duri...</td>\n",
       "    </tr>\n",
       "  </tbody>\n",
       "</table>\n",
       "</div>"
      ],
      "text/plain": [
       "   Unnamed: 0                                              title  class  \\\n",
       "0           0   Donald Trump Sends Out Embarrassing New Year’...      0   \n",
       "1           1   Drunk Bragging Trump Staffer Started Russian ...      0   \n",
       "2           2   Sheriff David Clarke Becomes An Internet Joke...      0   \n",
       "3           3   Trump Is So Obsessed He Even Has Obama’s Name...      0   \n",
       "4           4   Pope Francis Just Called Out Donald Trump Dur...      0   \n",
       "\n",
       "   word count                                    SECTION_CLEANED  \n",
       "0          12  Donald Trump Sends Out Embarrassing New Years ...  \n",
       "1           8  Drunk Bragging Trump Staffer Started Russian C...  \n",
       "2          15  Sheriff David Clarke Becomes An Internet Joke ...  \n",
       "3          14  Trump Is So Obsessed He Even Has Obamas Name C...  \n",
       "4          11  Pope Francis Just Called Out Donald Trump Duri...  "
      ]
     },
     "execution_count": 20,
     "metadata": {},
     "output_type": "execute_result"
    }
   ],
   "source": [
    "df = pd.read_csv(\"final_cleaned_data.csv\")\n",
    "df = pd.DataFrame(df)\n",
    "df['SECTION_CLEANED'] = df['SECTION_CLEANED'].astype(str)\n",
    "df.head()"
   ]
  },
  {
   "cell_type": "code",
   "execution_count": 21,
   "id": "28b0bfc6",
   "metadata": {},
   "outputs": [
    {
     "data": {
      "text/plain": [
       "((1600,), (400,), (1600,), (400,))"
      ]
     },
     "execution_count": 21,
     "metadata": {},
     "output_type": "execute_result"
    }
   ],
   "source": [
    "from sklearn.model_selection import train_test_split\n",
    "X_train, X_test, y_train, y_test = train_test_split(df['SECTION_CLEANED'],df['class'],test_size=0.20,random_state=87)\n",
    "X_train.shape, X_test.shape, y_train.shape, y_test.shape"
   ]
  },
  {
   "cell_type": "code",
   "execution_count": 22,
   "id": "9ebf3cc1",
   "metadata": {},
   "outputs": [
    {
     "data": {
      "text/plain": [
       "((1600, 3874), (400, 3874))"
      ]
     },
     "execution_count": 22,
     "metadata": {},
     "output_type": "execute_result"
    }
   ],
   "source": [
    "from sklearn.feature_extraction.text import CountVectorizer\n",
    "count_vectorizer = CountVectorizer(stop_words = \"english\")\n",
    "count_train = count_vectorizer.fit_transform(X_train.values)\n",
    "count_test = count_vectorizer.transform(X_test.values)\n",
    "count_train.shape, count_test.shape"
   ]
  },
  {
   "cell_type": "code",
   "execution_count": 23,
   "id": "7f38a55b",
   "metadata": {},
   "outputs": [
    {
     "data": {
      "text/plain": [
       "((1600, 13687), (400, 13687))"
      ]
     },
     "execution_count": 23,
     "metadata": {},
     "output_type": "execute_result"
    }
   ],
   "source": [
    "# Import TfidfVectorizer\n",
    "from sklearn.feature_extraction.text import TfidfVectorizer\n",
    "\n",
    "tfidf_vectorizer = TfidfVectorizer(stop_words='english', max_df=0.9, ngram_range=(1,2))\n",
    "tfidf_train = tfidf_vectorizer.fit(X_train.values)\n",
    "tfidf_train = tfidf_vectorizer.transform(X_train.values)\n",
    "\n",
    "tfidf_test = tfidf_vectorizer.transform(X_test)\n",
    "tfidf_train.shape, tfidf_test.shape"
   ]
  },
  {
   "cell_type": "code",
   "execution_count": 24,
   "id": "389b8669",
   "metadata": {},
   "outputs": [
    {
     "name": "stdout",
     "output_type": "stream",
     "text": [
      "  (0, 12055)\t0.287165737385118\n",
      "  (0, 12053)\t0.23536560855842606\n",
      "  (0, 10400)\t0.2720151709370482\n",
      "  (0, 10364)\t0.15825386676321632\n",
      "  (0, 10270)\t0.287165737385118\n",
      "  (0, 10268)\t0.1872437811058492\n",
      "  (0, 7337)\t0.287165737385118\n",
      "  (0, 3739)\t0.287165737385118\n",
      "  (0, 3735)\t0.24611510652370214\n",
      "  (0, 3051)\t0.25292771457772356\n",
      "  (0, 3044)\t0.2011275857510316\n",
      "  (0, 1932)\t0.287165737385118\n",
      "  (0, 1929)\t0.26126567297177206\n",
      "  (0, 906)\t0.287165737385118\n",
      "  (0, 905)\t0.287165737385118\n",
      "  (1, 13396)\t0.16047477239220173\n",
      "  (1, 13395)\t0.14981487048092496\n",
      "  (1, 13151)\t0.3026976283425326\n",
      "  (1, 13131)\t0.20321701154666966\n",
      "  (1, 13052)\t0.3026976283425326\n",
      "  (1, 13049)\t0.17671181613765988\n",
      "  (1, 11549)\t0.24809579357472683\n",
      "  (1, 11466)\t0.12190953870763016\n",
      "  (1, 10350)\t0.2753967109586297\n",
      "  (1, 10309)\t0.13768012385417894\n",
      "  :\t:\n",
      "  (1598, 10885)\t0.24958096710703948\n",
      "  (1598, 10881)\t0.17170840994103925\n",
      "  (1598, 10134)\t0.24958096710703948\n",
      "  (1598, 10129)\t0.2045605326828002\n",
      "  (1598, 9017)\t0.24958096710703948\n",
      "  (1598, 9016)\t0.24958096710703948\n",
      "  (1598, 7233)\t0.24958096710703948\n",
      "  (1598, 7230)\t0.21982407855232144\n",
      "  (1598, 4862)\t0.24958096710703948\n",
      "  (1598, 4860)\t0.23641333415486157\n",
      "  (1598, 4651)\t0.24958096710703948\n",
      "  (1598, 4644)\t0.18205031547068057\n",
      "  (1598, 1460)\t0.24958096710703948\n",
      "  (1598, 1458)\t0.23641333415486157\n",
      "  (1598, 701)\t0.24958096710703948\n",
      "  (1598, 700)\t0.23641333415486157\n",
      "  (1599, 10284)\t0.3235773525458199\n",
      "  (1599, 10268)\t0.24617687157315868\n",
      "  (1599, 9193)\t0.37754825519414414\n",
      "  (1599, 9191)\t0.298482311925104\n",
      "  (1599, 8460)\t0.33253416023304033\n",
      "  (1599, 4892)\t0.37754825519414414\n",
      "  (1599, 4890)\t0.3576292008537562\n",
      "  (1599, 2387)\t0.37754825519414414\n",
      "  (1599, 2380)\t0.2819526312417001\n",
      "  (0, 12055)\t0.287165737385118\n",
      "  (0, 12053)\t0.23536560855842606\n",
      "  (0, 10400)\t0.2720151709370482\n",
      "  (0, 10364)\t0.15825386676321632\n",
      "  (0, 10270)\t0.287165737385118\n",
      "  (0, 10268)\t0.1872437811058492\n",
      "  (0, 7337)\t0.287165737385118\n",
      "  (0, 3739)\t0.287165737385118\n",
      "  (0, 3735)\t0.24611510652370214\n",
      "  (0, 3051)\t0.25292771457772356\n",
      "  (0, 3044)\t0.2011275857510316\n",
      "  (0, 1932)\t0.287165737385118\n",
      "  (0, 1929)\t0.26126567297177206\n",
      "  (0, 906)\t0.287165737385118\n",
      "  (0, 905)\t0.287165737385118\n",
      "  (1, 13396)\t0.16047477239220173\n",
      "  (1, 13395)\t0.14981487048092496\n",
      "  (1, 13151)\t0.3026976283425326\n",
      "  (1, 13131)\t0.20321701154666966\n",
      "  (1, 13052)\t0.3026976283425326\n",
      "  (1, 13049)\t0.17671181613765988\n",
      "  (1, 11549)\t0.24809579357472683\n",
      "  (1, 11466)\t0.12190953870763016\n",
      "  (1, 10350)\t0.2753967109586297\n",
      "  (1, 10309)\t0.13768012385417894\n",
      "  (1, 10225)\t0.3026976283425326\n",
      "  (1, 10222)\t0.26660777863655255\n",
      "  (1, 9405)\t0.3026976283425326\n",
      "  (1, 9404)\t0.1455839200923124\n",
      "  (1, 5388)\t0.2867276154376631\n",
      "  (1, 5313)\t0.1313536744630439\n",
      "  (1, 462)\t0.24345668514889066\n",
      "  (1, 452)\t0.20167222931344972\n",
      "  (1, 323)\t0.22333684834778014\n",
      "  (2, 13396)\t0.23951946746760527\n",
      "  (2, 13395)\t0.22360884182231225\n",
      "  (2, 10649)\t0.33740130000934954\n",
      "  (2, 5343)\t0.427960387381255\n",
      "  (2, 5313)\t0.19605425630645942\n",
      "  (2, 4772)\t0.35718169974088804\n",
      "  (2, 4762)\t0.3057149821560419\n",
      "  (2, 3846)\t0.4517967133619922\n",
      "  (2, 3844)\t0.3633755929921134\n"
     ]
    }
   ],
   "source": [
    "print(tfidf_train)\n",
    "#this command gives importance for each and every word\n",
    "print(tfidf_train[0:3])"
   ]
  },
  {
   "cell_type": "code",
   "execution_count": 25,
   "id": "26b8c9ad",
   "metadata": {},
   "outputs": [
    {
     "data": {
      "text/plain": [
       "13687"
      ]
     },
     "execution_count": 25,
     "metadata": {},
     "output_type": "execute_result"
    }
   ],
   "source": [
    "len(tfidf_vectorizer.vocabulary_) #1300819 NEARLY"
   ]
  },
  {
   "cell_type": "code",
   "execution_count": 29,
   "id": "34b4cf01",
   "metadata": {},
   "outputs": [
    {
     "name": "stdout",
     "output_type": "stream",
     "text": [
      "BEST SCORE FROM SVC: 0.9493750000000001\n",
      "BEST PARAMETERS FOR SVC: LinearSVC(C=10, class_weight='balanced', max_iter=5000)\n",
      "Precision: 0.950170153137824\n",
      "Recall: 0.95\n",
      "F1-score: 0.9499899959983995\n"
     ]
    }
   ],
   "source": [
    "#SVM\n",
    "#%%time\n",
    "from sklearn.model_selection import GridSearchCV\n",
    "from sklearn.metrics import precision_score, recall_score, f1_score, classification_report\n",
    "from sklearn.svm import LinearSVC\n",
    "\n",
    "params = {\n",
    "    \"loss\": [\"squared_hinge\"],\n",
    "    'C': [0.001, 0.01, 0.1, 1, 10, 100],\n",
    "}\n",
    "# Initialize the model\n",
    "model = LinearSVC(class_weight='balanced', dual=True, max_iter=5000)\n",
    "\n",
    "# Perform GridSearchCV\n",
    "svc = GridSearchCV(model, param_grid=params, cv=5)\n",
    "svc.fit(tfidf_train, y_train)\n",
    "\n",
    "# Get the best estimator\n",
    "best_svc = svc.best_estimator_\n",
    "\n",
    "# Predict on the test set (assuming you have tfidf_test and y_test)\n",
    "y_pred = best_svc.predict(tfidf_test)\n",
    "\n",
    "precision = precision_score(y_test, y_pred, average='weighted')\n",
    "recall = recall_score(y_test, y_pred, average='weighted')\n",
    "f1 = f1_score(y_test, y_pred, average='weighted')\n",
    "print(\"BEST SCORE FROM SVC:\", svc.best_score_)\n",
    "print(\"BEST PARAMETERS FOR SVC:\", svc.best_estimator_)\n",
    "print(\"Precision:\", precision)\n",
    "print(\"Recall:\", recall)\n",
    "print(\"F1-score:\", f1)\n"
   ]
  },
  {
   "cell_type": "code",
   "execution_count": 32,
   "id": "b498c7c2",
   "metadata": {},
   "outputs": [
    {
     "name": "stdout",
     "output_type": "stream",
     "text": [
      "{'C': 10, 'penalty': 'l2', 'solver': 'saga'}\n",
      "0.9375\n",
      "Precision: 0.9543147208121827\n",
      "Recall: 0.9306930693069307\n",
      "F1-score: 0.9423558897243107\n"
     ]
    }
   ],
   "source": [
    "#LR\n",
    "from sklearn.linear_model import LogisticRegression\n",
    "\n",
    "param_grid_lr = {'C': [0.01, 0.1, 1, 10], 'penalty': ['l1', 'l2'], 'solver': ['saga']}\n",
    "\n",
    "lr = LogisticRegression(max_iter=5000)\n",
    "grid_lr = GridSearchCV(lr, param_grid_lr, cv=5)\n",
    "grid_lr.fit(tfidf_train, y_train)\n",
    "\n",
    "best_lr_model = grid_lr.best_estimator_\n",
    "y_pred = best_lr_model.predict(tfidf_test)\n",
    "precision = precision_score(y_test, y_pred)\n",
    "recall = recall_score(y_test, y_pred)\n",
    "f1 = f1_score(y_test, y_pred)\n",
    "\n",
    "print(grid_lr.best_params_)\n",
    "print(grid_lr.best_score_)\n",
    "print(\"Precision:\", precision)\n",
    "print(\"Recall:\", recall)\n",
    "print(\"F1-score:\", f1)"
   ]
  },
  {
   "cell_type": "code",
   "execution_count": 29,
   "id": "b9c505e5",
   "metadata": {},
   "outputs": [
    {
     "name": "stdout",
     "output_type": "stream",
     "text": [
      "NNET - Best parameters: {'activation': 'relu', 'alpha': 0.0001, 'hidden_layer_sizes': (100,), 'solver': 'adam'}\n",
      "NNET - Best cross-validation score (accuracy): 0.945\n",
      "Precision: 0.946078431372549\n",
      "Recall: 0.9554455445544554\n",
      "F1-score: 0.9507389162561576\n"
     ]
    }
   ],
   "source": [
    "#NNET\n",
    "from sklearn.neural_network import MLPClassifier\n",
    "from sklearn.preprocessing import StandardScaler\n",
    "from sklearn.metrics import precision_score, recall_score, f1_score\n",
    "from sklearn.model_selection import GridSearchCV \n",
    "\n",
    "param_grid_nnet = {\n",
    "    'hidden_layer_sizes': [(50,), (100,), (50, 50)],\n",
    "    'activation': ['relu', 'tanh'],\n",
    "    'solver': ['adam', 'sgd'],\n",
    "    'alpha': [0.0001, 0.001, 0.01],\n",
    "}\n",
    "nnet = MLPClassifier(max_iter=1000, early_stopping=True, random_state=42)\n",
    "\n",
    "grid_nnet = GridSearchCV(nnet, param_grid_nnet, cv=5)\n",
    "grid_nnet.fit(tfidf_train, y_train)\n",
    "\n",
    "best_nnet_model = grid_nnet.best_estimator_\n",
    "y_pred = best_nnet_model.predict(tfidf_test)\n",
    "precision = precision_score(y_test, y_pred)\n",
    "recall = recall_score(y_test, y_pred)\n",
    "f1 = f1_score(y_test, y_pred)\n",
    "\n",
    "print(\"NNET - Best parameters:\", grid_nnet.best_params_)\n",
    "print(\"NNET - Best cross-validation score (accuracy):\", grid_nnet.best_score_)\n",
    "print(\"Precision:\", precision)\n",
    "print(\"Recall:\", recall)\n",
    "print(\"F1-score:\", f1)"
   ]
  },
  {
   "cell_type": "code",
   "execution_count": 27,
   "id": "e72a8039",
   "metadata": {},
   "outputs": [
    {
     "name": "stdout",
     "output_type": "stream",
     "text": [
      "Random Forest - Best parameters: {'bootstrap': False, 'criterion': 'entropy', 'max_depth': None, 'min_samples_leaf': 2, 'min_samples_split': 2, 'n_estimators': 200}\n",
      "Random Forest - Best cross-validation score (accuracy): 0.91625\n",
      "Precision (RF): 0.875\n",
      "Recall (RF): 0.9356435643564357\n",
      "F1-score (RF): 0.9043062200956938\n",
      "Accuracy (RF): 0.9\n"
     ]
    }
   ],
   "source": [
    "#RF\n",
    "from sklearn.ensemble import RandomForestClassifier\n",
    "from sklearn.model_selection import GridSearchCV\n",
    "from sklearn.metrics import precision_score, recall_score, f1_score, accuracy_score\n",
    "param_grid_rf = {\n",
    "    'n_estimators': [100, 200, 300],\n",
    "    'criterion': ['gini', 'entropy'],\n",
    "    'max_depth': [None, 10, 20, 30],\n",
    "    'min_samples_split': [2, 5, 10],\n",
    "    'min_samples_leaf': [1, 2, 4],\n",
    "    'bootstrap': [True, False]\n",
    "}\n",
    "rf = RandomForestClassifier(random_state=42)\n",
    "# Perform GridSearchCV\n",
    "grid_rf = GridSearchCV(rf, param_grid_rf, cv=5)\n",
    "grid_rf.fit(tfidf_train, y_train)\n",
    "\n",
    "best_rf_model = grid_rf.best_estimator_\n",
    "y_pred_rf = best_rf_model.predict(tfidf_test)\n",
    "\n",
    "precision_rf = precision_score(y_test, y_pred_rf)\n",
    "recall_rf = recall_score(y_test, y_pred_rf)\n",
    "f1_rf = f1_score(y_test, y_pred_rf)\n",
    "accuracy_rf = accuracy_score(y_test, y_pred_rf)\n",
    "\n",
    "print(\"Random Forest - Best parameters:\", grid_rf.best_params_)\n",
    "print(\"Random Forest - Best cross-validation score (accuracy):\", grid_rf.best_score_)\n",
    "print(\"Precision (RF):\", precision_rf)\n",
    "print(\"Recall (RF):\", recall_rf)\n",
    "print(\"F1-score (RF):\", f1_rf)\n",
    "print(\"Accuracy (RF):\", accuracy_rf)"
   ]
  },
  {
   "cell_type": "code",
   "execution_count": 32,
   "id": "f6003e56",
   "metadata": {},
   "outputs": [
    {
     "name": "stdout",
     "output_type": "stream",
     "text": [
      "CART - Best parameters: {'criterion': 'entropy', 'max_depth': None, 'min_samples_leaf': 1, 'min_samples_split': 2}\n",
      "CART - Best cross-validation score (accuracy): 0.8400000000000001\n",
      "Precision (CART): 0.7872340425531915\n",
      "Recall (CART): 0.7326732673267327\n",
      "F1-score (CART): 0.7589743589743589\n",
      "Accuracy (CART): 0.765\n"
     ]
    }
   ],
   "source": [
    "#CART\n",
    "from sklearn.tree import DecisionTreeClassifier\n",
    "from sklearn.model_selection import GridSearchCV\n",
    "from sklearn.metrics import precision_score, recall_score, f1_score, accuracy_score\n",
    "\n",
    "param_grid_cart = {\n",
    "    'criterion': ['gini', 'entropy'],\n",
    "    'max_depth': [None, 10, 20, 30, 50],\n",
    "    'min_samples_split': [2, 5, 10],\n",
    "    'min_samples_leaf': [1, 2, 4],\n",
    "}\n",
    "\n",
    "cart = DecisionTreeClassifier(random_state=42)\n",
    "\n",
    "grid_cart = GridSearchCV(cart, param_grid_cart, cv=5)\n",
    "grid_cart.fit(tfidf_train, y_train)\n",
    "\n",
    "# Get the best estimator and make predictions\n",
    "best_cart_model = grid_cart.best_estimator_\n",
    "y_pred_cart = best_cart_model.predict(tfidf_test)\n",
    "\n",
    "# Evaluate precision, recall, f1-score, and accuracy\n",
    "precision_cart = precision_score(y_test, y_pred_cart)\n",
    "recall_cart = recall_score(y_test, y_pred_cart)\n",
    "f1_cart = f1_score(y_test, y_pred_cart)\n",
    "accuracy_cart = accuracy_score(y_test, y_pred_cart)\n",
    "\n",
    "print(\"CART - Best parameters:\", grid_cart.best_params_)\n",
    "print(\"CART - Best cross-validation score (accuracy):\", grid_cart.best_score_)\n",
    "print(\"Precision (CART):\", precision_cart)\n",
    "print(\"Recall (CART):\", recall_cart)\n",
    "print(\"F1-score (CART):\", f1_cart)\n",
    "print(\"Accuracy (CART):\", accuracy_cart)\n"
   ]
  },
  {
   "cell_type": "code",
   "execution_count": 33,
   "id": "bc06298a",
   "metadata": {},
   "outputs": [
    {
     "name": "stdout",
     "output_type": "stream",
     "text": [
      "AdaBoost - Best parameters: {'learning_rate': 0.1, 'n_estimators': 500}\n",
      "AdaBoost - Best cross-validation score (accuracy): 0.8931250000000001\n",
      "Precision (AdaBoost): 0.8447488584474886\n",
      "Recall (AdaBoost): 0.9158415841584159\n",
      "F1-score (AdaBoost): 0.8788598574821853\n",
      "Accuracy (AdaBoost): 0.8725\n"
     ]
    }
   ],
   "source": [
    "#Ada Boost\n",
    "from sklearn.ensemble import AdaBoostClassifier\n",
    "from sklearn.model_selection import GridSearchCV\n",
    "from sklearn.metrics import precision_score, recall_score, f1_score, accuracy_score\n",
    "\n",
    "param_grid_ada = {\n",
    "    'n_estimators': [50, 100, 200, 500],\n",
    "    'learning_rate': [0.01, 0.1, 0.5, 1.0],\n",
    "}\n",
    "\n",
    "ada = AdaBoostClassifier(random_state=42)\n",
    "\n",
    "# Perform GridSearchCV\n",
    "grid_ada = GridSearchCV(ada, param_grid_ada, cv=5)\n",
    "grid_ada.fit(tfidf_train, y_train)\n",
    "\n",
    "# Get the best estimator and make predictions\n",
    "best_ada_model = grid_ada.best_estimator_\n",
    "y_pred_ada = best_ada_model.predict(tfidf_test)\n",
    "\n",
    "\n",
    "precision_ada = precision_score(y_test, y_pred_ada)\n",
    "recall_ada = recall_score(y_test, y_pred_ada)\n",
    "f1_ada = f1_score(y_test, y_pred_ada)\n",
    "accuracy_ada = accuracy_score(y_test, y_pred_ada)\n",
    "\n",
    "print(\"AdaBoost - Best parameters:\", grid_ada.best_params_)\n",
    "print(\"AdaBoost - Best cross-validation score (accuracy):\", grid_ada.best_score_)\n",
    "print(\"Precision (AdaBoost):\", precision_ada)\n",
    "print(\"Recall (AdaBoost):\", recall_ada)\n",
    "print(\"F1-score (AdaBoost):\", f1_ada)\n",
    "print(\"Accuracy (AdaBoost):\", accuracy_ada)\n"
   ]
  },
  {
   "cell_type": "code",
   "execution_count": 32,
   "id": "9374c5b1",
   "metadata": {},
   "outputs": [
    {
     "data": {
      "image/png": "[encoded data removed]",
      "text/plain": [
       "<Figure size 720x432 with 1 Axes>"
      ]
     },
     "metadata": {
      "needs_background": "light"
     },
     "output_type": "display_data"
    }
   ],
   "source": [
    "import matplotlib.pyplot as plt\n",
    "\n",
    "# Data\n",
    "algorithm_names = ['SVM', 'LR', 'RF', 'CART', 'NNET','ADA BOOST']\n",
    "accuracies = [94.9, 93.7,91.6, 84.0, 94.5, 89.3]\n",
    "\n",
    "# Define light decent colors for each bar\n",
    "colors = ['turquoise', 'lightgreen', 'lightcoral', 'lightpink', 'hotpink', 'cyan']\n",
    "\n",
    "# Plot\n",
    "plt.figure(figsize=(10, 6))\n",
    "bars = plt.bar(algorithm_names, accuracies, color=colors)\n",
    "plt.xlabel('Algorithm')\n",
    "plt.ylabel('Accuracy')\n",
    "plt.title('Comparison of Algorithm Accuracies')\n",
    "plt.ylim(0, 100)\n",
    "\n",
    "# Add accuracy labels on top of the bars\n",
    "for bar, accuracy in zip(bars, accuracies):\n",
    "    plt.text(bar.get_x() + bar.get_width() / 2, bar.get_height() + 0.01, f'{accuracy:.2f}', ha='center', va='bottom', color='black')\n",
    "\n",
    "# Show plot\n",
    "plt.show()\n"
   ]
  },
  {
   "cell_type": "code",
   "execution_count": null,
   "id": "dfad7162",
   "metadata": {},
   "outputs": [],
   "source": []
  }
 ],
 "metadata": {
  "kernelspec": {
   "display_name": "Python 3",
   "language": "python",
   "name": "python3"
  },
  "language_info": {
   "codemirror_mode": {
    "name": "ipython",
    "version": 3
   },
   "file_extension": ".py",
   "mimetype": "text/x-python",
   "name": "python",
   "nbconvert_exporter": "python",
   "pygments_lexer": "ipython3",
   "version": "3.8.8"
  }
 },
 "nbformat": 4,
 "nbformat_minor": 5
}
